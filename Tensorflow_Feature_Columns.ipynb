{
  "nbformat": 4,
  "nbformat_minor": 0,
  "metadata": {
    "colab": {
      "name": "Tensorflow_Feature_Columns.ipynb",
      "provenance": []
    },
    "kernelspec": {
      "name": "python3",
      "display_name": "Python 3"
    },
    "language_info": {
      "name": "python"
    }
  },
  "cells": [
    {
      "cell_type": "code",
      "metadata": {
        "colab": {
          "base_uri": "https://localhost:8080/"
        },
        "id": "T6GhpDD4Mk4X",
        "outputId": "01046019-6885-4330-ecc5-24c4016fb0d9"
      },
      "source": [
        "import numpy as np\n",
        "import pandas as pd\n",
        "# Import matplotlib to visualize the model\n",
        "import matplotlib.pyplot as plt\n",
        "# Seaborn is a Python data visualization library based on matplotlib\n",
        "import seaborn as sns\n",
        "# %matplotlib inline sets the backend of matplotlib to the `inline` backend\n",
        "%matplotlib inline\n",
        "\n",
        "import tensorflow as tf\n",
        "\n",
        "\n",
        "from tensorflow import feature_column\n",
        "from tensorflow.keras import layers\n",
        "from sklearn.model_selection import train_test_split\n",
        "\n",
        "print(\"TensorFlow version: \",tf.version.VERSION)"
      ],
      "execution_count": 2,
      "outputs": [
        {
          "output_type": "stream",
          "text": [
            "TensorFlow version:  2.5.0\n"
          ],
          "name": "stdout"
        }
      ]
    },
    {
      "cell_type": "code",
      "metadata": {
        "id": "PdZ1sjYHNAnD"
      },
      "source": [
        "df = pd.read_csv('/content/loan_data.csv')"
      ],
      "execution_count": 37,
      "outputs": []
    },
    {
      "cell_type": "code",
      "metadata": {
        "id": "xZKAWGkjNPf5"
      },
      "source": [
        "\n",
        "train, test = train_test_split(df, test_size=0.01)"
      ],
      "execution_count": 38,
      "outputs": []
    },
    {
      "cell_type": "code",
      "metadata": {
        "colab": {
          "base_uri": "https://localhost:8080/"
        },
        "id": "OOLxZ-2ZN2Mk",
        "outputId": "07187d40-587b-4977-b0c2-2ababc06bbee"
      },
      "source": [
        "train.info()"
      ],
      "execution_count": 39,
      "outputs": [
        {
          "output_type": "stream",
          "text": [
            "<class 'pandas.core.frame.DataFrame'>\n",
            "Int64Index: 9482 entries, 522 to 8271\n",
            "Data columns (total 14 columns):\n",
            " #   Column             Non-Null Count  Dtype  \n",
            "---  ------             --------------  -----  \n",
            " 0   credit.policy      9482 non-null   int64  \n",
            " 1   purpose            9482 non-null   object \n",
            " 2   int.rate           9482 non-null   float64\n",
            " 3   installment        9482 non-null   float64\n",
            " 4   log.annual.inc     9482 non-null   float64\n",
            " 5   dti                9482 non-null   float64\n",
            " 6   fico               9482 non-null   int64  \n",
            " 7   days.with.cr.line  9482 non-null   float64\n",
            " 8   revol.bal          9482 non-null   int64  \n",
            " 9   revol.util         9482 non-null   float64\n",
            " 10  inq.last.6mths     9482 non-null   int64  \n",
            " 11  delinq.2yrs        9482 non-null   int64  \n",
            " 12  pub.rec            9482 non-null   int64  \n",
            " 13  not.fully.paid     9482 non-null   int64  \n",
            "dtypes: float64(6), int64(7), object(1)\n",
            "memory usage: 1.1+ MB\n"
          ],
          "name": "stdout"
        }
      ]
    },
    {
      "cell_type": "code",
      "metadata": {
        "id": "SIWwLjpnYmqm",
        "outputId": "e16dc65c-169b-42d3-c643-7c5ff1956c7a",
        "colab": {
          "base_uri": "https://localhost:8080/"
        }
      },
      "source": [
        "train.columns"
      ],
      "execution_count": 65,
      "outputs": [
        {
          "output_type": "execute_result",
          "data": {
            "text/plain": [
              "Index(['credit.policy', 'purpose', 'int.rate', 'installment', 'log.annual.inc',\n",
              "       'dti', 'fico', 'days.with.cr.line', 'revol.bal', 'revol.util',\n",
              "       'inq.last.6mths', 'delinq.2yrs', 'pub.rec', 'not.fully.paid'],\n",
              "      dtype='object')"
            ]
          },
          "metadata": {
            "tags": []
          },
          "execution_count": 65
        }
      ]
    },
    {
      "cell_type": "code",
      "metadata": {
        "colab": {
          "base_uri": "https://localhost:8080/"
        },
        "id": "sf7-nCJzNY1Q",
        "outputId": "50371da1-a24f-4fc9-8694-7cebf177327d"
      },
      "source": [
        "train['days.with.cr.line'].describe()\n"
      ],
      "execution_count": 54,
      "outputs": [
        {
          "output_type": "execute_result",
          "data": {
            "text/plain": [
              "count     9482.000000\n",
              "mean      4565.025236\n",
              "std       2498.780352\n",
              "min        178.958333\n",
              "25%       2820.000000\n",
              "50%       4139.958333\n",
              "75%       5730.041667\n",
              "max      17639.958330\n",
              "Name: days.with.cr.line, dtype: float64"
            ]
          },
          "metadata": {
            "tags": []
          },
          "execution_count": 54
        }
      ]
    },
    {
      "cell_type": "code",
      "metadata": {
        "colab": {
          "base_uri": "https://localhost:8080/"
        },
        "id": "EJT3GSqQQw5T",
        "outputId": "5a1f1f91-cfa1-44e7-e706-e69b6923a6fa"
      },
      "source": [
        "train['purpose'].unique()"
      ],
      "execution_count": 63,
      "outputs": [
        {
          "output_type": "execute_result",
          "data": {
            "text/plain": [
              "array(['debt_consolidation', 'home_improvement', 'all_other',\n",
              "       'small_business', 'credit_card', 'major_purchase', 'educational'],\n",
              "      dtype=object)"
            ]
          },
          "metadata": {
            "tags": []
          },
          "execution_count": 63
        }
      ]
    },
    {
      "cell_type": "code",
      "metadata": {
        "colab": {
          "base_uri": "https://localhost:8080/"
        },
        "id": "J1Um75ZMP-DV",
        "outputId": "e142cf12-e090-416a-cafc-0c23395c72eb"
      },
      "source": [
        "purpose = tf.feature_column.categorical_column_with_vocabulary_list(\n",
        "      'purpose', ['debt_consolidation', 'home_improvement', 'all_other',\n",
        "       'small_business', 'credit_card', 'major_purchase', 'educational'])\n",
        "\n",
        "# Create an indicator column out of the created categorical column.\n",
        "purpose_one_hot = tf.feature_column.indicator_column(purpose)\n",
        "demo(purpose_one_hot)"
      ],
      "execution_count": 64,
      "outputs": [
        {
          "output_type": "stream",
          "text": [
            "[[1. 0. 0. 0. 0. 0. 0.]\n",
            " [0. 0. 0. 0. 0. 1. 0.]\n",
            " [0. 0. 0. 0. 1. 0. 0.]\n",
            " [1. 0. 0. 0. 0. 0. 0.]\n",
            " [1. 0. 0. 0. 0. 0. 0.]]\n"
          ],
          "name": "stdout"
        }
      ]
    },
    {
      "cell_type": "code",
      "metadata": {
        "id": "9JuW32ymNdRo"
      },
      "source": [
        ""
      ],
      "execution_count": 14,
      "outputs": []
    },
    {
      "cell_type": "code",
      "metadata": {
        "id": "tfaCSvb-NdyG"
      },
      "source": [
        "batch_size = 5"
      ],
      "execution_count": 40,
      "outputs": []
    },
    {
      "cell_type": "code",
      "metadata": {
        "id": "XvZgjV4AOMdC"
      },
      "source": [
        "# A utility method to create a tf.data dataset from a Pandas Dataframe\n",
        "def df_to_dataset(dataframe, shuffle=True, batch_size=32):\n",
        "  dataframe = dataframe.copy()\n",
        "  labels = dataframe.pop('not.fully.paid')\n",
        "  ds = tf.data.Dataset.from_tensor_slices((dict(dataframe), labels)) # TODO 2a\n",
        "  if shuffle:\n",
        "    ds = ds.shuffle(buffer_size=len(dataframe))\n",
        "  ds = ds.batch(batch_size)\n",
        "  return ds"
      ],
      "execution_count": 41,
      "outputs": []
    },
    {
      "cell_type": "code",
      "metadata": {
        "id": "ZkdZIGCRRs4k"
      },
      "source": [
        "# TODO 2b\n",
        "train_ds = df_to_dataset(train, batch_size=batch_size)"
      ],
      "execution_count": 42,
      "outputs": []
    },
    {
      "cell_type": "code",
      "metadata": {
        "id": "yduPUcNcaCTD"
      },
      "source": [
        "test_ds = df_to_dataset(test, batch_size=batch_size)"
      ],
      "execution_count": 71,
      "outputs": []
    },
    {
      "cell_type": "code",
      "metadata": {
        "id": "2eLt7kpFR3ji",
        "outputId": "bc5e1829-d94a-46d8-cd13-97b610ed5449",
        "colab": {
          "base_uri": "https://localhost:8080/"
        }
      },
      "source": [
        "# If you don't use take(1), all elements will eventually be fetched\n",
        "for feature_batch, label_batch in train_ds.take(1):\n",
        "  print('Every feature:', list(feature_batch.keys()))\n",
        "  \n",
        "  print('A batch of targets:', label_batch)"
      ],
      "execution_count": 44,
      "outputs": [
        {
          "output_type": "stream",
          "text": [
            "Every feature: ['credit.policy', 'purpose', 'int.rate', 'installment', 'log.annual.inc', 'dti', 'fico', 'days.with.cr.line', 'revol.bal', 'revol.util', 'inq.last.6mths', 'delinq.2yrs', 'pub.rec']\n",
            "A batch of targets: tf.Tensor([0 0 0 0 0], shape=(5,), dtype=int64)\n"
          ],
          "name": "stdout"
        }
      ]
    },
    {
      "cell_type": "code",
      "metadata": {
        "id": "wYTJBMrwUlW1"
      },
      "source": [
        "example_batch = next(iter(train_ds))[0]"
      ],
      "execution_count": 45,
      "outputs": []
    },
    {
      "cell_type": "code",
      "metadata": {
        "id": "bKutlyGTUyiu"
      },
      "source": [
        "def demo(feature_column):\n",
        "  feature_layer = layers.DenseFeatures(feature_column)\n",
        "  print(feature_layer(example_batch).numpy())"
      ],
      "execution_count": 46,
      "outputs": []
    },
    {
      "cell_type": "code",
      "metadata": {
        "id": "3gVwv02TU00B",
        "outputId": "6c6a6157-0e13-4f11-fbda-2dadec0c8edd",
        "colab": {
          "base_uri": "https://localhost:8080/"
        }
      },
      "source": [
        "credit_policy = feature_column.numeric_column(\"credit.policy\")\n",
        "tf.feature_column.numeric_column\n",
        "print(credit_policy)"
      ],
      "execution_count": 48,
      "outputs": [
        {
          "output_type": "stream",
          "text": [
            "NumericColumn(key='credit.policy', shape=(1,), default_value=None, dtype=tf.float32, normalizer_fn=None)\n"
          ],
          "name": "stdout"
        }
      ]
    },
    {
      "cell_type": "code",
      "metadata": {
        "id": "9cNng73sVGdS",
        "outputId": "2a794ced-6cd2-4d3f-f674-52f7b196a97f",
        "colab": {
          "base_uri": "https://localhost:8080/"
        }
      },
      "source": [
        "demo(credit_policy)"
      ],
      "execution_count": 50,
      "outputs": [
        {
          "output_type": "stream",
          "text": [
            "[[1.]\n",
            " [1.]\n",
            " [1.]\n",
            " [1.]\n",
            " [1.]]\n"
          ],
          "name": "stdout"
        }
      ]
    },
    {
      "cell_type": "code",
      "metadata": {
        "id": "TiygGT2GZcBw",
        "outputId": "66713619-fdd3-4cf3-9935-be7bec5ff4f7",
        "colab": {
          "base_uri": "https://localhost:8080/"
        }
      },
      "source": [
        "train.info()"
      ],
      "execution_count": 66,
      "outputs": [
        {
          "output_type": "stream",
          "text": [
            "<class 'pandas.core.frame.DataFrame'>\n",
            "Int64Index: 9482 entries, 522 to 8271\n",
            "Data columns (total 14 columns):\n",
            " #   Column             Non-Null Count  Dtype  \n",
            "---  ------             --------------  -----  \n",
            " 0   credit.policy      9482 non-null   int64  \n",
            " 1   purpose            9482 non-null   object \n",
            " 2   int.rate           9482 non-null   float64\n",
            " 3   installment        9482 non-null   float64\n",
            " 4   log.annual.inc     9482 non-null   float64\n",
            " 5   dti                9482 non-null   float64\n",
            " 6   fico               9482 non-null   int64  \n",
            " 7   days.with.cr.line  9482 non-null   float64\n",
            " 8   revol.bal          9482 non-null   int64  \n",
            " 9   revol.util         9482 non-null   float64\n",
            " 10  inq.last.6mths     9482 non-null   int64  \n",
            " 11  delinq.2yrs        9482 non-null   int64  \n",
            " 12  pub.rec            9482 non-null   int64  \n",
            " 13  not.fully.paid     9482 non-null   int64  \n",
            "dtypes: float64(6), int64(7), object(1)\n",
            "memory usage: 1.1+ MB\n"
          ],
          "name": "stdout"
        }
      ]
    },
    {
      "cell_type": "code",
      "metadata": {
        "id": "FoXkI6e9WvEn",
        "outputId": "9d21933d-6431-4241-f991-88af69377ad4",
        "colab": {
          "base_uri": "https://localhost:8080/"
        }
      },
      "source": [
        "days_with_cr_line = feature_column.numeric_column(\"days.with.cr.line\")\n",
        "tf.feature_column.numeric_column\n",
        "print(days_with_cr_line)"
      ],
      "execution_count": 60,
      "outputs": [
        {
          "output_type": "stream",
          "text": [
            "NumericColumn(key='days.with.cr.line', shape=(1,), default_value=None, dtype=tf.float32, normalizer_fn=None)\n"
          ],
          "name": "stdout"
        }
      ]
    },
    {
      "cell_type": "code",
      "metadata": {
        "id": "Zdzsig2rVbAz",
        "outputId": "3eaf8e8e-e35b-43d7-9e85-b8446e14486c",
        "colab": {
          "base_uri": "https://localhost:8080/"
        }
      },
      "source": [
        "days_with_cr_line_buckets = tf.feature_column.bucketized_column(days_with_cr_line, boundaries=[5000,10000,15000,20000])\n",
        "demo(days_with_cr_line_buckets) # TODO 3a\n"
      ],
      "execution_count": 61,
      "outputs": [
        {
          "output_type": "stream",
          "text": [
            "[[1. 0. 0. 0. 0.]\n",
            " [0. 1. 0. 0. 0.]\n",
            " [1. 0. 0. 0. 0.]\n",
            " [0. 1. 0. 0. 0.]\n",
            " [1. 0. 0. 0. 0.]]\n"
          ],
          "name": "stdout"
        }
      ]
    },
    {
      "cell_type": "code",
      "metadata": {
        "id": "u7bUV28qWXhg"
      },
      "source": [
        "feature_columns = []\n",
        "feature_columns.append(days_with_cr_line_buckets)\n",
        "feature_columns.append(purpose_one_hot)\n",
        "for header in ['credit.policy', 'int.rate', 'installment', 'log.annual.inc',\n",
        "       'dti', 'fico', 'revol.bal', 'revol.util',\n",
        "       'inq.last.6mths', 'delinq.2yrs', 'pub.rec']:\n",
        "  feature_columns.append(feature_column.numeric_column(header))"
      ],
      "execution_count": 68,
      "outputs": []
    },
    {
      "cell_type": "code",
      "metadata": {
        "id": "vcU_bE5HZgY1"
      },
      "source": [
        "feature_layer = tf.keras.layers.DenseFeatures(feature_columns)\n"
      ],
      "execution_count": 69,
      "outputs": []
    },
    {
      "cell_type": "code",
      "metadata": {
        "id": "94W9TMh8ZgzY",
        "outputId": "24cc1890-4d8d-4876-9c24-c7944fd2866e",
        "colab": {
          "base_uri": "https://localhost:8080/"
        }
      },
      "source": [
        "# `Sequential` provides training and inference features on this model.\n",
        "model = tf.keras.Sequential([\n",
        "  feature_layer,\n",
        "  layers.Dense(128, activation='relu'),\n",
        "  layers.Dense(128, activation='relu'),\n",
        "  layers.Dense(1)\n",
        "])\n",
        "\n",
        "# `Compile` configures the model for training.\n",
        "model.compile(optimizer='adam',\n",
        "              loss=tf.keras.losses.BinaryCrossentropy(from_logits=True),\n",
        "              metrics=['accuracy'])\n",
        "\n",
        "# `Fit` trains the model for a fixed number of epochs\n",
        "history = model.fit(train_ds,\n",
        "          validation_data=test_ds,\n",
        "          epochs=10)"
      ],
      "execution_count": 74,
      "outputs": [
        {
          "output_type": "stream",
          "text": [
            "Epoch 1/10\n",
            "WARNING:tensorflow:Layers in a Sequential model should only have a single input tensor, but we receive a <class 'dict'> input: {'credit.policy': <tf.Tensor 'ExpandDims:0' shape=(None, 1) dtype=int64>, 'purpose': <tf.Tensor 'ExpandDims_10:0' shape=(None, 1) dtype=string>, 'int.rate': <tf.Tensor 'ExpandDims_7:0' shape=(None, 1) dtype=float64>, 'installment': <tf.Tensor 'ExpandDims_6:0' shape=(None, 1) dtype=float64>, 'log.annual.inc': <tf.Tensor 'ExpandDims_8:0' shape=(None, 1) dtype=float64>, 'dti': <tf.Tensor 'ExpandDims_3:0' shape=(None, 1) dtype=float64>, 'fico': <tf.Tensor 'ExpandDims_4:0' shape=(None, 1) dtype=int64>, 'days.with.cr.line': <tf.Tensor 'ExpandDims_1:0' shape=(None, 1) dtype=float64>, 'revol.bal': <tf.Tensor 'ExpandDims_11:0' shape=(None, 1) dtype=int64>, 'revol.util': <tf.Tensor 'ExpandDims_12:0' shape=(None, 1) dtype=float64>, 'inq.last.6mths': <tf.Tensor 'ExpandDims_5:0' shape=(None, 1) dtype=int64>, 'delinq.2yrs': <tf.Tensor 'ExpandDims_2:0' shape=(None, 1) dtype=int64>, 'pub.rec': <tf.Tensor 'ExpandDims_9:0' shape=(None, 1) dtype=int64>}\n",
            "Consider rewriting this model with the Functional API.\n",
            "WARNING:tensorflow:Layers in a Sequential model should only have a single input tensor, but we receive a <class 'dict'> input: {'credit.policy': <tf.Tensor 'ExpandDims:0' shape=(None, 1) dtype=int64>, 'purpose': <tf.Tensor 'ExpandDims_10:0' shape=(None, 1) dtype=string>, 'int.rate': <tf.Tensor 'ExpandDims_7:0' shape=(None, 1) dtype=float64>, 'installment': <tf.Tensor 'ExpandDims_6:0' shape=(None, 1) dtype=float64>, 'log.annual.inc': <tf.Tensor 'ExpandDims_8:0' shape=(None, 1) dtype=float64>, 'dti': <tf.Tensor 'ExpandDims_3:0' shape=(None, 1) dtype=float64>, 'fico': <tf.Tensor 'ExpandDims_4:0' shape=(None, 1) dtype=int64>, 'days.with.cr.line': <tf.Tensor 'ExpandDims_1:0' shape=(None, 1) dtype=float64>, 'revol.bal': <tf.Tensor 'ExpandDims_11:0' shape=(None, 1) dtype=int64>, 'revol.util': <tf.Tensor 'ExpandDims_12:0' shape=(None, 1) dtype=float64>, 'inq.last.6mths': <tf.Tensor 'ExpandDims_5:0' shape=(None, 1) dtype=int64>, 'delinq.2yrs': <tf.Tensor 'ExpandDims_2:0' shape=(None, 1) dtype=int64>, 'pub.rec': <tf.Tensor 'ExpandDims_9:0' shape=(None, 1) dtype=int64>}\n",
            "Consider rewriting this model with the Functional API.\n",
            "1884/1897 [============================>.] - ETA: 0s - loss: 97.5373 - accuracy: 0.7283WARNING:tensorflow:Layers in a Sequential model should only have a single input tensor, but we receive a <class 'dict'> input: {'credit.policy': <tf.Tensor 'ExpandDims:0' shape=(None, 1) dtype=int64>, 'purpose': <tf.Tensor 'ExpandDims_10:0' shape=(None, 1) dtype=string>, 'int.rate': <tf.Tensor 'ExpandDims_7:0' shape=(None, 1) dtype=float64>, 'installment': <tf.Tensor 'ExpandDims_6:0' shape=(None, 1) dtype=float64>, 'log.annual.inc': <tf.Tensor 'ExpandDims_8:0' shape=(None, 1) dtype=float64>, 'dti': <tf.Tensor 'ExpandDims_3:0' shape=(None, 1) dtype=float64>, 'fico': <tf.Tensor 'ExpandDims_4:0' shape=(None, 1) dtype=int64>, 'days.with.cr.line': <tf.Tensor 'ExpandDims_1:0' shape=(None, 1) dtype=float64>, 'revol.bal': <tf.Tensor 'ExpandDims_11:0' shape=(None, 1) dtype=int64>, 'revol.util': <tf.Tensor 'ExpandDims_12:0' shape=(None, 1) dtype=float64>, 'inq.last.6mths': <tf.Tensor 'ExpandDims_5:0' shape=(None, 1) dtype=int64>, 'delinq.2yrs': <tf.Tensor 'ExpandDims_2:0' shape=(None, 1) dtype=int64>, 'pub.rec': <tf.Tensor 'ExpandDims_9:0' shape=(None, 1) dtype=int64>}\n",
            "Consider rewriting this model with the Functional API.\n",
            "1897/1897 [==============================] - 5s 2ms/step - loss: 97.4658 - accuracy: 0.7285 - val_loss: 4.2917 - val_accuracy: 0.7812\n",
            "Epoch 2/10\n",
            "1897/1897 [==============================] - 4s 2ms/step - loss: 25.8917 - accuracy: 0.7508 - val_loss: 3.3233 - val_accuracy: 0.4896\n",
            "Epoch 3/10\n",
            "1897/1897 [==============================] - 4s 2ms/step - loss: 4.2377 - accuracy: 0.7747 - val_loss: 0.6031 - val_accuracy: 0.8125\n",
            "Epoch 4/10\n",
            "1897/1897 [==============================] - 4s 2ms/step - loss: 2.0708 - accuracy: 0.8022 - val_loss: 0.5243 - val_accuracy: 0.8125\n",
            "Epoch 5/10\n",
            "1897/1897 [==============================] - 4s 2ms/step - loss: 0.4969 - accuracy: 0.8361 - val_loss: 0.4855 - val_accuracy: 0.8125\n",
            "Epoch 6/10\n",
            "1897/1897 [==============================] - 4s 2ms/step - loss: 0.4421 - accuracy: 0.8402 - val_loss: 0.4855 - val_accuracy: 0.8125\n",
            "Epoch 7/10\n",
            "1897/1897 [==============================] - 4s 2ms/step - loss: 0.4416 - accuracy: 0.8402 - val_loss: 0.4914 - val_accuracy: 0.8125\n",
            "Epoch 8/10\n",
            "1897/1897 [==============================] - 4s 2ms/step - loss: 0.4409 - accuracy: 0.8402 - val_loss: 0.4782 - val_accuracy: 0.8125\n",
            "Epoch 9/10\n",
            "1897/1897 [==============================] - 4s 2ms/step - loss: 0.4411 - accuracy: 0.8402 - val_loss: 0.4879 - val_accuracy: 0.8125\n",
            "Epoch 10/10\n",
            "1897/1897 [==============================] - 4s 2ms/step - loss: 0.4409 - accuracy: 0.8402 - val_loss: 0.4885 - val_accuracy: 0.8125\n"
          ],
          "name": "stdout"
        }
      ]
    },
    {
      "cell_type": "code",
      "metadata": {
        "id": "pzBEQG_TZ5I8",
        "outputId": "acc2a812-3a1d-4080-9520-b18a2e7a2221",
        "colab": {
          "base_uri": "https://localhost:8080/",
          "height": 350
        }
      },
      "source": [
        "def plot_curves(history, metrics):\n",
        "    nrows = 1\n",
        "    ncols = 2\n",
        "    fig = plt.figure(figsize=(10, 5))\n",
        "\n",
        "    for idx, key in enumerate(metrics):  \n",
        "        ax = fig.add_subplot(nrows, ncols, idx+1)\n",
        "        plt.plot(history.history[key])\n",
        "        plt.plot(history.history['val_{}'.format(key)])\n",
        "        plt.title('model {}'.format(key))\n",
        "        plt.ylabel(key)\n",
        "        plt.xlabel('epoch')\n",
        "        plt.legend(['train', 'validation'], loc='upper left');    \n",
        "    \n",
        "    \n",
        "\n",
        "plot_curves(history, ['loss', 'accuracy'])"
      ],
      "execution_count": 75,
      "outputs": [
        {
          "output_type": "display_data",
          "data": {
            "image/png": "[encoded data removed]",
            "text/plain": [
              "<Figure size 720x360 with 2 Axes>"
            ]
          },
          "metadata": {
            "tags": [],
            "needs_background": "light"
          }
        }
      ]
    },
    {
      "cell_type": "code",
      "metadata": {
        "id": "SBEVAq7vaVXN"
      },
      "source": [
        ""
      ],
      "execution_count": null,
      "outputs": []
    }
  ]
}